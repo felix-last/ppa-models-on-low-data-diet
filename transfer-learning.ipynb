{
 "cells": [
  {
   "attachments": {},
   "cell_type": "markdown",
   "metadata": {},
   "source": [
    "Authored by Felix Last <<mail@felixlast.de>> to summarize the method presented in [Training PPA Models for Embedded Memories on a Low-data Diet](https://doi.org/10.1145/3556539).\n",
    "\n",
    "This code was written using Python 3.11 and [pipenv](https://pipenv.pypa.io/en/latest/). Install both to run."
   ]
  },
  {
   "cell_type": "code",
   "execution_count": 1,
   "metadata": {},
   "outputs": [
    {
     "name": "stderr",
     "output_type": "stream",
     "text": [
      "2023-05-03 18:53:17.452300: I tensorflow/core/util/port.cc:110] oneDNN custom operations are on. You may see slightly different numerical results due to floating-point round-off errors from different computation orders. To turn them off, set the environment variable `TF_ENABLE_ONEDNN_OPTS=0`.\n",
      "2023-05-03 18:53:17.458415: I tensorflow/tsl/cuda/cudart_stub.cc:28] Could not find cuda drivers on your machine, GPU will not be used.\n",
      "2023-05-03 18:53:17.581277: I tensorflow/tsl/cuda/cudart_stub.cc:28] Could not find cuda drivers on your machine, GPU will not be used.\n",
      "2023-05-03 18:53:17.584171: I tensorflow/core/platform/cpu_feature_guard.cc:182] This TensorFlow binary is optimized to use available CPU instructions in performance-critical operations.\n",
      "To enable the following instructions: AVX2 AVX512F AVX512_VNNI FMA, in other operations, rebuild TensorFlow with the appropriate compiler flags.\n",
      "2023-05-03 18:53:19.923492: W tensorflow/compiler/tf2tensorrt/utils/py_utils.cc:38] TF-TRT Warning: Could not find TensorRT\n"
     ]
    }
   ],
   "source": [
    "from IPython.display import display # can be replaced with print outside of jupyter\n",
    "import numpy as np\n",
    "import pandas as pd\n",
    "import sklearn.model_selection\n",
    "import sklearn.preprocessing\n",
    "import tensorflow as tf"
   ]
  },
  {
   "cell_type": "code",
   "execution_count": 2,
   "metadata": {},
   "outputs": [
    {
     "data": {
      "text/html": [
       "<div>\n",
       "<style scoped>\n",
       "    .dataframe tbody tr th:only-of-type {\n",
       "        vertical-align: middle;\n",
       "    }\n",
       "\n",
       "    .dataframe tbody tr th {\n",
       "        vertical-align: top;\n",
       "    }\n",
       "\n",
       "    .dataframe thead th {\n",
       "        text-align: right;\n",
       "    }\n",
       "</style>\n",
       "<table border=\"1\" class=\"dataframe\">\n",
       "  <thead>\n",
       "    <tr style=\"text-align: right;\">\n",
       "      <th></th>\n",
       "      <th>column_mux</th>\n",
       "      <th>bank</th>\n",
       "      <th>nw</th>\n",
       "      <th>nb</th>\n",
       "    </tr>\n",
       "  </thead>\n",
       "  <tbody>\n",
       "    <tr>\n",
       "      <th>0</th>\n",
       "      <td>2</td>\n",
       "      <td>1</td>\n",
       "      <td>1024</td>\n",
       "      <td>100</td>\n",
       "    </tr>\n",
       "    <tr>\n",
       "      <th>1</th>\n",
       "      <td>2</td>\n",
       "      <td>1</td>\n",
       "      <td>2048</td>\n",
       "      <td>200</td>\n",
       "    </tr>\n",
       "    <tr>\n",
       "      <th>2</th>\n",
       "      <td>2</td>\n",
       "      <td>1</td>\n",
       "      <td>4096</td>\n",
       "      <td>100</td>\n",
       "    </tr>\n",
       "    <tr>\n",
       "      <th>3</th>\n",
       "      <td>4</td>\n",
       "      <td>2</td>\n",
       "      <td>1024</td>\n",
       "      <td>200</td>\n",
       "    </tr>\n",
       "    <tr>\n",
       "      <th>4</th>\n",
       "      <td>4</td>\n",
       "      <td>2</td>\n",
       "      <td>2048</td>\n",
       "      <td>100</td>\n",
       "    </tr>\n",
       "    <tr>\n",
       "      <th>5</th>\n",
       "      <td>4</td>\n",
       "      <td>2</td>\n",
       "      <td>4096</td>\n",
       "      <td>200</td>\n",
       "    </tr>\n",
       "  </tbody>\n",
       "</table>\n",
       "</div>"
      ],
      "text/plain": [
       "   column_mux  bank    nw   nb\n",
       "0           2     1  1024  100\n",
       "1           2     1  2048  200\n",
       "2           2     1  4096  100\n",
       "3           4     2  1024  200\n",
       "4           4     2  2048  100\n",
       "5           4     2  4096  200"
      ]
     },
     "metadata": {},
     "output_type": "display_data"
    },
    {
     "data": {
      "text/html": [
       "<div>\n",
       "<style scoped>\n",
       "    .dataframe tbody tr th:only-of-type {\n",
       "        vertical-align: middle;\n",
       "    }\n",
       "\n",
       "    .dataframe tbody tr th {\n",
       "        vertical-align: top;\n",
       "    }\n",
       "\n",
       "    .dataframe thead th {\n",
       "        text-align: right;\n",
       "    }\n",
       "</style>\n",
       "<table border=\"1\" class=\"dataframe\">\n",
       "  <thead>\n",
       "    <tr style=\"text-align: right;\">\n",
       "      <th></th>\n",
       "      <th>column_mux</th>\n",
       "      <th>bank</th>\n",
       "      <th>nw</th>\n",
       "      <th>nb</th>\n",
       "    </tr>\n",
       "  </thead>\n",
       "  <tbody>\n",
       "    <tr>\n",
       "      <th>0</th>\n",
       "      <td>2</td>\n",
       "      <td>2</td>\n",
       "      <td>1024</td>\n",
       "      <td>100</td>\n",
       "    </tr>\n",
       "    <tr>\n",
       "      <th>1</th>\n",
       "      <td>2</td>\n",
       "      <td>2</td>\n",
       "      <td>2048</td>\n",
       "      <td>200</td>\n",
       "    </tr>\n",
       "    <tr>\n",
       "      <th>2</th>\n",
       "      <td>2</td>\n",
       "      <td>2</td>\n",
       "      <td>4096</td>\n",
       "      <td>100</td>\n",
       "    </tr>\n",
       "    <tr>\n",
       "      <th>3</th>\n",
       "      <td>4</td>\n",
       "      <td>1</td>\n",
       "      <td>1024</td>\n",
       "      <td>200</td>\n",
       "    </tr>\n",
       "    <tr>\n",
       "      <th>4</th>\n",
       "      <td>4</td>\n",
       "      <td>1</td>\n",
       "      <td>2048</td>\n",
       "      <td>100</td>\n",
       "    </tr>\n",
       "    <tr>\n",
       "      <th>5</th>\n",
       "      <td>4</td>\n",
       "      <td>1</td>\n",
       "      <td>4096</td>\n",
       "      <td>200</td>\n",
       "    </tr>\n",
       "  </tbody>\n",
       "</table>\n",
       "</div>"
      ],
      "text/plain": [
       "   column_mux  bank    nw   nb\n",
       "0           2     2  1024  100\n",
       "1           2     2  2048  200\n",
       "2           2     2  4096  100\n",
       "3           4     1  1024  200\n",
       "4           4     1  2048  100\n",
       "5           4     1  4096  200"
      ]
     },
     "metadata": {},
     "output_type": "display_data"
    },
    {
     "data": {
      "text/html": [
       "<div>\n",
       "<style scoped>\n",
       "    .dataframe tbody tr th:only-of-type {\n",
       "        vertical-align: middle;\n",
       "    }\n",
       "\n",
       "    .dataframe tbody tr th {\n",
       "        vertical-align: top;\n",
       "    }\n",
       "\n",
       "    .dataframe thead th {\n",
       "        text-align: right;\n",
       "    }\n",
       "</style>\n",
       "<table border=\"1\" class=\"dataframe\">\n",
       "  <thead>\n",
       "    <tr style=\"text-align: right;\">\n",
       "      <th></th>\n",
       "      <th>area</th>\n",
       "    </tr>\n",
       "  </thead>\n",
       "  <tbody>\n",
       "    <tr>\n",
       "      <th>0</th>\n",
       "      <td>100.0</td>\n",
       "    </tr>\n",
       "    <tr>\n",
       "      <th>1</th>\n",
       "      <td>200.0</td>\n",
       "    </tr>\n",
       "    <tr>\n",
       "      <th>2</th>\n",
       "      <td>300.0</td>\n",
       "    </tr>\n",
       "    <tr>\n",
       "      <th>3</th>\n",
       "      <td>400.0</td>\n",
       "    </tr>\n",
       "    <tr>\n",
       "      <th>4</th>\n",
       "      <td>500.0</td>\n",
       "    </tr>\n",
       "    <tr>\n",
       "      <th>5</th>\n",
       "      <td>600.0</td>\n",
       "    </tr>\n",
       "  </tbody>\n",
       "</table>\n",
       "</div>"
      ],
      "text/plain": [
       "    area\n",
       "0  100.0\n",
       "1  200.0\n",
       "2  300.0\n",
       "3  400.0\n",
       "4  500.0\n",
       "5  600.0"
      ]
     },
     "metadata": {},
     "output_type": "display_data"
    },
    {
     "data": {
      "text/html": [
       "<div>\n",
       "<style scoped>\n",
       "    .dataframe tbody tr th:only-of-type {\n",
       "        vertical-align: middle;\n",
       "    }\n",
       "\n",
       "    .dataframe tbody tr th {\n",
       "        vertical-align: top;\n",
       "    }\n",
       "\n",
       "    .dataframe thead th {\n",
       "        text-align: right;\n",
       "    }\n",
       "</style>\n",
       "<table border=\"1\" class=\"dataframe\">\n",
       "  <thead>\n",
       "    <tr style=\"text-align: right;\">\n",
       "      <th></th>\n",
       "      <th>area</th>\n",
       "    </tr>\n",
       "  </thead>\n",
       "  <tbody>\n",
       "    <tr>\n",
       "      <th>0</th>\n",
       "      <td>100.0</td>\n",
       "    </tr>\n",
       "    <tr>\n",
       "      <th>1</th>\n",
       "      <td>200.0</td>\n",
       "    </tr>\n",
       "    <tr>\n",
       "      <th>2</th>\n",
       "      <td>300.0</td>\n",
       "    </tr>\n",
       "    <tr>\n",
       "      <th>3</th>\n",
       "      <td>400.0</td>\n",
       "    </tr>\n",
       "    <tr>\n",
       "      <th>4</th>\n",
       "      <td>500.0</td>\n",
       "    </tr>\n",
       "    <tr>\n",
       "      <th>5</th>\n",
       "      <td>600.0</td>\n",
       "    </tr>\n",
       "  </tbody>\n",
       "</table>\n",
       "</div>"
      ],
      "text/plain": [
       "    area\n",
       "0  100.0\n",
       "1  200.0\n",
       "2  300.0\n",
       "3  400.0\n",
       "4  500.0\n",
       "5  600.0"
      ]
     },
     "metadata": {},
     "output_type": "display_data"
    }
   ],
   "source": [
    "# define stub data\n",
    "\n",
    "# X source domain\n",
    "x_raw = pd.DataFrame({\n",
    "    \"column_mux\": [2,2,2,4,4,4],\n",
    "    \"bank\": [1,1,1,2,2,2],\n",
    "    \"nw\": [1024,2048,4096,1024,2048,4096],\n",
    "    \"nb\": [100,200,100,200,100,200],\n",
    "})\n",
    "display(x_raw)\n",
    "# X target domain\n",
    "x_raw_target = pd.DataFrame({\n",
    "    \"column_mux\": [2,2,2,4,4,4],\n",
    "    \"bank\": [2,2,2,1,1,1],\n",
    "    \"nw\": [1024,2048,4096,1024,2048,4096],\n",
    "    \"nb\": [100,200,100,200,100,200],\n",
    "})\n",
    "display(x_raw_target)\n",
    "\n",
    "# Y source domain\n",
    "y_raw = pd.DataFrame({\n",
    "    \"area\": [100.0, 200.0, 300.0, 400.0, 500.0, 600.0],\n",
    "})\n",
    "display(y_raw)\n",
    "\n",
    "# Y target domain\n",
    "y_raw_target = pd.DataFrame({\n",
    "    \"area\": [100.0, 200.0, 300.0, 400.0, 500.0, 600.0],\n",
    "})\n",
    "display(y_raw_target)"
   ]
  },
  {
   "cell_type": "code",
   "execution_count": 3,
   "metadata": {},
   "outputs": [],
   "source": [
    "# define preprocessors\n",
    "x_scaler = sklearn.preprocessing.StandardScaler()\n",
    "y_scaler = sklearn.preprocessing.MinMaxScaler(feature_range=(0, 1))"
   ]
  },
  {
   "cell_type": "code",
   "execution_count": 4,
   "metadata": {},
   "outputs": [
    {
     "name": "stdout",
     "output_type": "stream",
     "text": [
      "[3.00000000e+00 1.50000000e+00 2.38933333e+03 1.50000000e+02] [1.00000000e+00 5.00000000e-01 1.27715239e+03 5.00000000e+01]\n",
      "[100.] [600.]\n"
     ]
    }
   ],
   "source": [
    "# fit preprocessors on joint data distribution\n",
    "x_union = pd.concat([x_raw, x_raw_target], ignore_index=True, axis=0)\n",
    "x_scaler.fit(x_union)\n",
    "y_union = pd.concat([y_raw, y_raw_target], ignore_index=True, axis=0)\n",
    "y_scaler.fit(y_union)\n",
    "print(x_scaler.mean_, x_scaler.scale_)\n",
    "print(y_scaler.data_min_, y_scaler.data_max_)"
   ]
  },
  {
   "cell_type": "code",
   "execution_count": 5,
   "metadata": {},
   "outputs": [],
   "source": [
    "# preprocess data\n",
    "x = x_scaler.transform(x_raw)\n",
    "x_target = x_scaler.transform(x_raw_target)\n",
    "y = y_scaler.transform(y_raw)\n",
    "y_target = y_scaler.transform(y_raw_target)"
   ]
  },
  {
   "cell_type": "code",
   "execution_count": 6,
   "metadata": {},
   "outputs": [],
   "source": [
    "# split test / train data\n",
    "x_target_train, x_target_test, y_target_train, y_target_test = sklearn.model_selection.train_test_split(\n",
    "    x_target, y_target, test_size=0.33, random_state=1\n",
    ")"
   ]
  },
  {
   "cell_type": "code",
   "execution_count": 7,
   "metadata": {},
   "outputs": [],
   "source": [
    "# define model (very simple FFNN, architecture needs problem-specific fine-tuning)\n",
    "input_layer = tf.keras.Input(shape=(x_union.shape[1],))\n",
    "h1 = tf.keras.layers.Dense(32, activation=tf.nn.relu)(input_layer)\n",
    "output_layer = tf.keras.layers.Dense(y_union.shape[1], activation=tf.nn.relu)(h1)\n",
    "model = tf.keras.Model(inputs=input_layer, outputs=output_layer)"
   ]
  },
  {
   "cell_type": "code",
   "execution_count": 8,
   "metadata": {},
   "outputs": [],
   "source": [
    "# compile model, setting optimizer & loss function\n",
    "model.compile(\n",
    "    optimizer=\"adam\",\n",
    "    loss=\"log_cosh\",\n",
    "    metrics=None,\n",
    ")"
   ]
  },
  {
   "cell_type": "code",
   "execution_count": 9,
   "metadata": {},
   "outputs": [
    {
     "name": "stdout",
     "output_type": "stream",
     "text": [
      "1/1 [==============================] - 1s 1s/step - loss: 0.1647\n"
     ]
    },
    {
     "data": {
      "text/plain": [
       "<keras.callbacks.History at 0x7ff488412dd0>"
      ]
     },
     "execution_count": 9,
     "metadata": {},
     "output_type": "execute_result"
    }
   ],
   "source": [
    "# pre-train\n",
    "model.fit(\n",
    "    x=x, \n",
    "    y=y,\n",
    "    batch_size=None,\n",
    "    epochs=1,\n",
    "    verbose=\"auto\",\n",
    "    callbacks=None, # TODO: add early stopping, tensorboard\n",
    "    validation_split=0.0,\n",
    "    shuffle=True,\n",
    ")"
   ]
  },
  {
   "cell_type": "code",
   "execution_count": 10,
   "metadata": {},
   "outputs": [
    {
     "name": "stdout",
     "output_type": "stream",
     "text": [
      "1/1 [==============================] - 0s 14ms/step - loss: 0.1786\n"
     ]
    },
    {
     "data": {
      "text/plain": [
       "<keras.callbacks.History at 0x7ff4883e48d0>"
      ]
     },
     "execution_count": 10,
     "metadata": {},
     "output_type": "execute_result"
    }
   ],
   "source": [
    "# fine-tune\n",
    "model.fit(\n",
    "    x=x_target_train, \n",
    "    y=y_target_train,\n",
    "    batch_size=None,\n",
    "    epochs=1,\n",
    "    verbose=\"auto\",\n",
    "    callbacks=None, # TODO: add early stopping, tensorboard\n",
    "    validation_split=0.0,\n",
    "    shuffle=True,\n",
    ")"
   ]
  },
  {
   "cell_type": "code",
   "execution_count": 11,
   "metadata": {},
   "outputs": [
    {
     "name": "stdout",
     "output_type": "stream",
     "text": [
      "1/1 [==============================] - 0s 355ms/step\n"
     ]
    },
    {
     "data": {
      "text/plain": [
       "array([[100.],\n",
       "       [100.]], dtype=float32)"
      ]
     },
     "metadata": {},
     "output_type": "display_data"
    },
    {
     "data": {
      "text/plain": [
       "array([[300.],\n",
       "       [200.]])"
      ]
     },
     "metadata": {},
     "output_type": "display_data"
    },
    {
     "data": {
      "text/plain": [
       "array([[200.],\n",
       "       [100.]])"
      ]
     },
     "metadata": {},
     "output_type": "display_data"
    }
   ],
   "source": [
    "# evaluate accuracy (estimation error) on target domain\n",
    "y_pred = model.predict(\n",
    "    x_target_test\n",
    ")\n",
    "# reverse scale predictions\n",
    "y_pred_orig = y_scaler.inverse_transform(y_pred)\n",
    "y_true_orig = y_scaler.inverse_transform(y_target_test)\n",
    "residuals = y_true_orig - y_pred_orig\n",
    "display(y_pred_orig)\n",
    "display(y_true_orig)\n",
    "display(residuals)"
   ]
  },
  {
   "cell_type": "code",
   "execution_count": 12,
   "metadata": {},
   "outputs": [
    {
     "data": {
      "text/plain": [
       "149.99999999999997"
      ]
     },
     "execution_count": 12,
     "metadata": {},
     "output_type": "execute_result"
    }
   ],
   "source": [
    "# relative metric suitable for evaluating when ground truth values strictly positive\n",
    "# not suitable as loss function\n",
    "# should be used on original data scale\n",
    "\n",
    "def symmetric_rel_err(y_true, y_pred):\n",
    "    \"\"\"Unsigned version of signed symmetric percentage bias (Morley et al.,\n",
    "    2018). Interpretable as a percentage, but symmetric unlike APE.\n",
    "    \"\"\"\n",
    "    return (np.exp(np.abs(np.log(y_pred / y_true))) - 1) * 100\n",
    "\n",
    "def median_symmetric_rel_err(y_true, y_pred, axis=0):\n",
    "    \"\"\"Computes median of `symmetric_rel_err` across observations\"\"\"\n",
    "    return np.median(symmetric_rel_err(y_true, y_pred), axis=axis)\n",
    "\n",
    "def mean_median_symmetric_rel_err(y_true, y_pred):\n",
    "    \"\"\"Computes variable-wise median `symmetric_rel_err` before aggregating\n",
    "    across variables using mean.\"\"\"\n",
    "    return np.mean(median_symmetric_rel_err(y_true, y_pred))\n",
    "\n",
    "mean_median_symmetric_rel_err(y_pred_orig, y_true_orig)"
   ]
  }
 ],
 "metadata": {
  "kernelspec": {
   "display_name": "transfer-learning-sample-9jpl8PUD",
   "language": "python",
   "name": "python3"
  },
  "language_info": {
   "codemirror_mode": {
    "name": "ipython",
    "version": 3
   },
   "file_extension": ".py",
   "mimetype": "text/x-python",
   "name": "python",
   "nbconvert_exporter": "python",
   "pygments_lexer": "ipython3",
   "version": "3.11.1"
  },
  "orig_nbformat": 4
 },
 "nbformat": 4,
 "nbformat_minor": 2
}
